{
 "cells": [
  {
   "cell_type": "markdown",
   "id": "3a937518",
   "metadata": {},
   "source": [
    "Лешу попросили разметить огромное множество картинок. Посмотрев на дедлайн и на гору картинок, Леша понял, что совсем не успевает сделать все сам. Однако, у него было много-много друзей, которые были готовы ему помочь! Он раздал каждому своему другу по какому-то кол-ву задач, чтобы вместе разметить картинки.\n",
    "\n",
    "Не все друзья Леши добросовестные и внимательные исполнители. Однако, и Леша не просто Леша; Леша - был аналитиком и придумал, что нужно давать каждое задание нескольким друзьям, а в качестве ответа на задачу полагать - наиболее часто встречаемый ответ.\n",
    "Помогите Леше по вердиктам своих друзей восстановить итоговые ответы на задачу.\n",
    "\n",
    "### Формат ввода\n",
    "На каждой входной строке (строк неизвестное количество) вам подается вердикт одного друга на одну из задач в формате через пробел: \n",
    "##### worker_id task_id verdict\n",
    "\n",
    "где worker_id - некоторая строчка, однозначно определяющая друга, <task_id> - строчка, однозначно определяющая задание, а verdict - некоторое целое число, отвечающее за ответ на задачу.\n",
    "    \n",
    "### Формат вывода\n",
    "    \n",
    "В качестве ответа на задачу вам нужно на отдельных строках вывести вердикты на задачу: \n",
    "##### task_id verdict\n",
    "\n",
    "task_id от verdict отделено пробелом\n",
    "Важно, при выводе <task_id> должны быть отсортированы в лексикографическом порядке по возрастанию.\n",
    "Примечания\n",
    "Важно: в случае, если наиболее часто встречаемых ответов на задачу несколько - выберете ответ с наименьшим значением\n",
    "Более того вердикты могут быть не только 0 или 1\n"
   ]
  },
  {
   "cell_type": "code",
   "execution_count": 1,
   "id": "6ddffadf",
   "metadata": {},
   "outputs": [],
   "source": [
    "import pandas as pd\n",
    "\n",
    "df = pd.DataFrame(columns=['worker_id', 'task_id', 'verdict'])\n",
    "\n",
    "f = open('input.txt', 'r')\n",
    "l = [line.strip() for line in f]\n",
    "l = [i.split(' ') for i in l]\n",
    "\n",
    "for i in range(len(l)):\n",
    "    df = df.append(pd.Series([l[i][0], l[i][1], int(l[i][2])], index=['worker_id', 'task_id', 'verdict']), ignore_index=True)\n",
    "    \n",
    "l = df \\\n",
    "    .groupby(['task_id', 'verdict'], as_index=False) \\\n",
    "    .agg({'worker_id':'count', 'verdict':'min'}) \\\n",
    "    .sort_values('worker_id', ascending=False) \\\n",
    "    .rename(columns={'worker_id':'evaluation_counts'})\n",
    "\n",
    "l['C2'] = range(0,len(l))\n",
    "l['Rank'] = l.groupby(by=['task_id'])['C2'].transform(lambda x: x.rank())\n",
    "\n",
    "l = l[['task_id', 'verdict']][l.Rank == 1.0]\n",
    "\n",
    "l['index'] = range(0,len(l))\n",
    "l = l.set_index('index')\n",
    "\n",
    "writer = open('output.txt', 'w')\n",
    "for i in range(len(l.index)):\n",
    "    writer.write(\"%s\\n\" % (l['task_id'][i] + ' ' + str(l['verdict'][i])))\n",
    "writer.close()"
   ]
  }
 ],
 "metadata": {
  "kernelspec": {
   "display_name": "Python 3 (ipykernel)",
   "language": "python",
   "name": "python3"
  },
  "language_info": {
   "codemirror_mode": {
    "name": "ipython",
    "version": 3
   },
   "file_extension": ".py",
   "mimetype": "text/x-python",
   "name": "python",
   "nbconvert_exporter": "python",
   "pygments_lexer": "ipython3",
   "version": "3.9.6"
  }
 },
 "nbformat": 4,
 "nbformat_minor": 5
}
